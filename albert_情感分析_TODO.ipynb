{
 "cells": [
  {
   "cell_type": "markdown",
   "metadata": {},
   "source": [
    "### 背景介绍\n",
    "情感分析，又称意见挖掘或情感挖掘，是指通过自然语言处理、文本挖掘和计算语言学等方法对带有情感色彩的主观性文本进行分析、处理、归纳和推理的过程。在电商领域，情感分析可以帮助商家快速识别用户对产品的情感态度，如积极、消极或中立，从而做出相应的市场策略调整。\n",
    "\n",
    "Albert（A Lite BERT）模型作为一种轻量级的BERT变体，在保持较好性能的同时，减少了模型参数和计算量，适合在实际应用中进行快速部署和推理。\n",
    "\n",
    "本实验选择使用Albert模型进行电商情感分析，旨在探索其在电商评论数据上的表现，为电商平台的情感分析提供新的思路和方法。\n",
    "\n",
    "### 数据说明\n",
    "\n",
    "我们将情感标签简化为二分类问题，即积极情感（标签为1）和消极情感（标签为0）。"
   ]
  },
  {
   "cell_type": "code",
   "execution_count": null,
   "metadata": {},
   "outputs": [],
   "source": [
    "import transformers\n",
    "print(transformers.__version__)"
   ]
  },
  {
   "cell_type": "code",
   "execution_count": null,
   "metadata": {},
   "outputs": [],
   "source": [
    "import pandas as pd\n",
    "import torch\n",
    "from transformers import BertTokenizer, AlbertForSequenceClassification\n",
    "from torch.utils.data import TensorDataset\n",
    "\n",
    "# 加载数据集\n",
    "data_dir = r'./shop_comm'\n",
    "train_df = pd.read_csv(f'{data_dir}/shop_train.csv')\n",
    "test_df = pd.read_csv(f'{data_dir}/shop_test.csv')\n",
    "device = torch.device(\"cuda\" if torch.cuda.is_available() else \"cpu\")"
   ]
  },
  {
   "cell_type": "code",
   "execution_count": null,
   "metadata": {
    "collapsed": true,
    "jupyter": {
     "outputs_hidden": true
    }
   },
   "outputs": [],
   "source": [
    "# 加载BERT模型和tokenizer\n",
    "tokenizer = BertTokenizer.from_pretrained('bert-base-chinese',cache_dir=r'D:\\Python\\Model')\n",
    "model = AlbertForSequenceClassification.from_pretrained('albert-base-v2',cache_dir=r'D:\\Python\\Model').to(device)"
   ]
  },
  {
   "cell_type": "code",
   "execution_count": null,
   "metadata": {},
   "outputs": [],
   "source": [
    "# 将数据转换为模型输入格式 max_length默认512\n",
    "train_encodings = tokenizer(list(train_df['review']), max_length=64, truncation=True, padding=True)\n",
    "test_encodings = tokenizer(list(test_df['review']), max_length=64, truncation=True, padding=True)\n",
    "\n",
    "train_labels = torch.tensor(list(train_df['label'])) #0,1\n",
    "test_labels = torch.tensor(list(test_df['label']))\n",
    "\n",
    "#input_ids：文本编码，attention_mask：文本掩码，默认为1\n",
    "#如果输入文本长度小于最大长度，在末尾添加填充单词，attention_mask填0\n",
    "train_dataset = TensorDataset(torch.tensor(train_encodings['input_ids']),\n",
    "                              torch.tensor(train_encodings['attention_mask']),\n",
    "                              train_labels)\n",
    "test_dataset = TensorDataset(torch.tensor(test_encodings['input_ids']),\n",
    "                             torch.tensor(test_encodings['attention_mask']),\n",
    "                             test_labels)"
   ]
  },
  {
   "cell_type": "code",
   "execution_count": null,
   "metadata": {},
   "outputs": [],
   "source": [
    "# 定义训练参数\n",
    "from torch.utils.data import DataLoader, RandomSampler, SequentialSampler\n",
    "from transformers import AdamW\n",
    "\n",
    "batch_size = 64\n",
    "learning_rate = 1e-5\n",
    "\n",
    "# TODO:定义DataLoader, 训练集采用随机采样，测试集采用顺序采样\n",
    "\n",
    "# TODO:定义优化器"
   ]
  },
  {
   "cell_type": "code",
   "execution_count": null,
   "metadata": {},
   "outputs": [],
   "source": [
    "from tqdm import tqdm\n",
    "# 训练模型\n",
    "epochs = 1\n",
    "for epoch in range(epochs):\n",
    "    model.train()\n",
    "    train_loss = 0.0\n",
    "    for batch in tqdm(train_loader, desc='Epoch {}'.format(epoch)):\n",
    "        batch = tuple(t.to(device) for t in batch)\n",
    "        inputs = {'input_ids': batch[0],\n",
    "                  'attention_mask': batch[1],\n",
    "                  'labels': batch[2]}\n",
    "        optimizer.zero_grad()\n",
    "        outputs = model(**inputs)  #内置了交叉熵损失函数\n",
    "        loss = outputs[0] #\n",
    "        loss.backward()\n",
    "        optimizer.step()\n",
    "        train_loss += loss.item() * batch_size\n",
    "\n",
    "    train_loss /= len(train_loader.dataset)\n",
    "    print('Epoch: {}, Training Loss: {:.4f}'.format(epoch, train_loss))"
   ]
  },
  {
   "cell_type": "code",
   "execution_count": null,
   "metadata": {},
   "outputs": [],
   "source": [
    "torch.save(model,\"./models/albert_cn_shop.pt\")"
   ]
  },
  {
   "cell_type": "code",
   "execution_count": null,
   "metadata": {},
   "outputs": [],
   "source": [
    "# 测试模型\n",
    "from sklearn.metrics import accuracy_score, classification_report\n",
    "import numpy as np\n",
    "\n",
    "model.eval()\n",
    "test_loss = 0.0\n",
    "predictions, true_labels = [], []\n",
    "for batch in tqdm(test_loader, desc='Testing'):\n",
    "    batch = tuple(t.to(device) for t in batch)\n",
    "    inputs = {'input_ids': batch[0],\n",
    "              'attention_mask': batch[1],\n",
    "              'labels': batch[2]}\n",
    "    with torch.no_grad():\n",
    "        outputs = model(**inputs)\n",
    "        loss = outputs[0]\n",
    "        logits = outputs[1] #通过 outputs[1] 获取了分类结果。logits 是一个二维张量，大小为 (batch_size, num_labels)\n",
    "        test_loss += loss.item() * batch_size\n",
    "        logits = logits.detach().cpu().numpy() #detach不参与梯度计算\n",
    "        label_ids = inputs['labels'].to('cpu').numpy()\n",
    "        predictions.append(logits)\n",
    "        true_labels.append(label_ids)\n",
    "\n",
    "test_loss /= len(test_loader.dataset)\n",
    "print('Testing Loss: {:.4f}'.format(test_loss))\n",
    "\n",
    "# 计算准确率和分类报告\n",
    "predictions = np.concatenate(predictions, axis=0)\n",
    "predicted_labels = np.argmax(predictions, axis=1)\n",
    "true_labels = np.concatenate(true_labels, axis=0)\n",
    "accuracy = accuracy_score(true_labels, predicted_labels)\n",
    "print('Accuracy:', accuracy)"
   ]
  }
 ],
 "metadata": {
  "kernelspec": {
   "display_name": "Python 3 (ipykernel)",
   "language": "python",
   "name": "python3"
  },
  "language_info": {
   "codemirror_mode": {
    "name": "ipython",
    "version": 3
   },
   "file_extension": ".py",
   "mimetype": "text/x-python",
   "name": "python",
   "nbconvert_exporter": "python",
   "pygments_lexer": "ipython3",
   "version": "3.10.10"
  },
  "toc": {
   "base_numbering": 1,
   "nav_menu": {},
   "number_sections": true,
   "sideBar": true,
   "skip_h1_title": false,
   "title_cell": "Table of Contents",
   "title_sidebar": "Contents",
   "toc_cell": false,
   "toc_position": {},
   "toc_section_display": true,
   "toc_window_display": false
  }
 },
 "nbformat": 4,
 "nbformat_minor": 4
}
